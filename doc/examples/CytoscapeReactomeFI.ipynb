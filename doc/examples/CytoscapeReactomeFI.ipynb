{
 "cells": [
  {
   "cell_type": "markdown",
   "metadata": {},
   "source": [
    "# Cytoscape Reactome FI Example"
   ]
  },
  {
   "cell_type": "markdown",
   "metadata": {
    "collapsed": true
   },
   "source": [
    "Overview\n",
    "--------\n",
    "This example demonstrates a Cytoscape Reactome FI workflow\n",
    "for the following cohorts:\n",
    "\n",
    "* BRCA (Breast invasive carcinoma)\n",
    "\n",
    "* OV (Ovarian serous cystadenocarcinoma)\n",
    "\n",
    "The steps executed are as follows:\n",
    "\n",
    "1. Download each cohort mutation annotation file (MAF) from the\n",
    "   Broad Firehose WS server.\n",
    "\n",
    "2. Build the two networks using the CyREST API `ReactomeFIViz`\n",
    "   `buildFISubNetwork` command.\n",
    "\n",
    "3. Cluster the network into gene modules using the `ReactomeFIViz`\n",
    "   `cluster` command. \n",
    "\n",
    "4. Perform pair-wise module overlapping analysis.\n",
    "\n",
    "5. Load the Reactome pathways.\n",
    "\n",
    "6. Partition a subset of the gene modules into the following sets:\n",
    "   \n",
    "   * Modules with a significant proportion of genes in common\n",
    "   \n",
    "   * Unshared modules for each of the two cohorts\n",
    "\n",
    "7. Perform pathway enrichment analysis for each unshared gene module.\n",
    "\n",
    "8. Export unshared gene pathway diagrams.\n",
    "\n",
    "Prerequisites\n",
    "------------\n",
    "* Python version 2.6 or higher\n",
    "\n",
    "* [fbget](https://confluence.broadinstitute.org/display/GDAC/fbget)\n",
    "\n",
    "* Cytoscape with the latest version of ReactomeFIViz\n",
    "\n",
    "Install firebrowse per the [fbget Download](https://confluence.broadinstitute.org/display/GDAC/fbget#fbget-configuration) instructions. Include both the `firebrowse` package and the `fbget.py` file in your Python path. For example, in the [Anaconda](https://docs.anaconda.com/anaconda/) virtual environment:\n",
    "\n",
    "    mkdir -p /usr/local/src/cytoscape\n",
    "    (cd /usr/local/src/cytoscape;\n",
    "     curl -o fbget-0.1.11.zip http://gdac.broadinstitute.org/runs/code/fbget-0.1.11.zip;\n",
    "     unzip fbget-0.1.11.zip;\n",
    "     mv fbget-0.1.11/fbget.py .;\n",
    "     rm -r fbget-0.1.11*\n",
    "    )\n",
    "    conda create -n cytoscape pip jupyter pandas scipy statsmodels\n",
    "    source activate cytoscape\n",
    "    pip install firebrowse\n",
    "    conda develop /usr/local/src/cytoscape\n",
    "\n",
    "Open Cytoscape before building the networks below. Select `Help > Check for Updates` to ensure that ReactomeFIViz is current.\n",
    "\n",
    "*Note*: Building the networks clears an existing Cytoscape session, if it exists."
   ]
  },
  {
   "cell_type": "code",
   "execution_count": 1,
   "metadata": {},
   "outputs": [],
   "source": [
    "# The Cytoscape download module.\n",
    "import fbget\n",
    "# Python utilities.\n",
    "import os\n",
    "import requests\n",
    "import tempfile\n",
    "import shutil\n",
    "import itertools\n",
    "from io import StringIO\n",
    "import pandas as pd\n",
    "from scipy.stats import hypergeom\n",
    "import numpy as np\n",
    "from statsmodels.sandbox.stats.multicomp import multipletests"
   ]
  },
  {
   "cell_type": "code",
   "execution_count": 2,
   "metadata": {},
   "outputs": [
    {
     "name": "stdout",
     "output_type": "stream",
     "text": [
      "The downloaded files will be saved to /var/folders/20/lm3r8z697lz5wskmqzfkkjv482fhg1/T/tmpdTt9F9.\n"
     ]
    }
   ],
   "source": [
    "sandbox = tempfile.mkdtemp()\n",
    "print \"The downloaded files will be saved to %s.\" % sandbox"
   ]
  },
  {
   "cell_type": "code",
   "execution_count": 3,
   "metadata": {
    "collapsed": true
   },
   "outputs": [],
   "source": [
    "# The REST service url.\n",
    "service_url = 'http://localhost:1234'\n",
    "# Returns the REST app url.\n",
    "def get_url(*params, **kwargs):\n",
    "    path = [service_url]\n",
    "    app = kwargs.get('app')\n",
    "    if app is not None:\n",
    "        path.append(app)\n",
    "    path.append('v1')\n",
    "    path.extend(params)\n",
    "    return '/'.join(path)\n",
    "\n",
    "# Returns the CyREST Reactome FI url.\n",
    "get_fi_url = lambda *params: get_url(*params, app='reactomefiviz')"
   ]
  },
  {
   "cell_type": "code",
   "execution_count": 495,
   "metadata": {
    "collapsed": true
   },
   "outputs": [],
   "source": [
    "# Returns the data frame for the given CyREST Reactome\n",
    "# FI response.  The response must contain a 'data'\n",
    "# property object with content\n",
    "# {tableHeaders, tableHeaders, tableContent}.\n",
    "# The required *parsers* dictionary argument associates\n",
    "# a parser with each column.\n",
    "# The optional index parameter is the index column name.\n",
    "def parse_fi_table_response(resp, parsers, index=None):\n",
    "    # The cluster response data.\n",
    "    data = resp.json()['data']\n",
    "    # The cluster data columns.\n",
    "    columns = data['tableHeaders']\n",
    "    parsers_list = [parsers[col] for col in columns]\n",
    "    # Parses a cluster content row.\n",
    "    parse_row = lambda row: tuple(parsers_list[i](value) for i, value in enumerate(row))\n",
    "    # The parsed cluster content list.\n",
    "    content = map(parse_row, data['tableContent'])\n",
    "    # Return the cluster data frames.\n",
    "    return pd.DataFrame.from_records(content, index=index, columns=columns)"
   ]
  },
  {
   "cell_type": "code",
   "execution_count": 217,
   "metadata": {
    "collapsed": true
   },
   "outputs": [],
   "source": [
    "# Downloads the MAF file for the given cohort.\n",
    "def download_maf(cohort, out=None):\n",
    "    # Download the MAF.\n",
    "    maf_file = out if out else os.path.join(sandbox, \"%s.maf\" % cohort) \n",
    "    print \"Downloading the %s MAF file to %s...\" % (cohort, maf_file)\n",
    "    maf_csv = fbget.maf(cohort=cohort)\n",
    "    # Parse the MAF as a data frame.\n",
    "    maf_df = pd.read_csv(StringIO(maf_csv), sep='\\t', index_col='Module')\n",
    "    # Write the MAF file.\n",
    "    maf_df.to_csv(maf_file, index=False, sep='\\t')\n",
    "    return maf_file"
   ]
  },
  {
   "cell_type": "code",
   "execution_count": 235,
   "metadata": {
    "collapsed": true
   },
   "outputs": [],
   "source": [
    "# Builds the network.\n",
    "def build_network(maf_file):\n",
    "    # Clear the current Cytoscape session, if any.\n",
    "    requests.delete(get_url('session')).ok\n",
    "    # Read the MAF into a data frame.\n",
    "    maf_df = pd.read_csv(maf_file, sep='\\t')\n",
    "    # The number of samples.\n",
    "    sample_cnt = len({tsb for tsb in maf_df.Tumor_Sample_Barcode})\n",
    "    print \"Sample Count: %d\" % sample_cnt\n",
    "    sample_cutoff = max(2, int(0.01*sample_cnt))\n",
    "    print \"Building the FI network with sample cut-off %d...\" % sample_cutoff\n",
    "    # Build the FI network with 1% sample cut-off.\n",
    "    body = dict(fiVersion='2016', format='MAF', file=maf_file,\n",
    "                enteredGenes='', chooseHomoGenes=False,\n",
    "                userLinkers=False, showUnLinked=False,\n",
    "                fetchFIAnnotations=True,\n",
    "                sampleCutoffValue=sample_cutoff)\n",
    "    requests.post(get_fi_url('buildFISubNetwork'), json=body)\n",
    "    print \"The FI network is loaded to Cytoscape.\"\n",
    "    return maf_df"
   ]
  },
  {
   "cell_type": "code",
   "execution_count": 28,
   "metadata": {
    "collapsed": true
   },
   "outputs": [],
   "source": [
    "# The cluster content value parsers.\n",
    "cluster_parsers = {\n",
    "    'Module': int, 'Nodes in Module': int, 'Node Percentage': float,\n",
    "    'Samples in Module': int, 'Sample Percentage': float,\n",
    "    'Node List': lambda s: s.split(',')\n",
    "}\n",
    "\n",
    "# Parses the clusters into data frames.\n",
    "def cluster():\n",
    "    # Cluster the currently displayed network.\n",
    "    print \"Clustering the FI network...\"\n",
    "    resp = requests.get(get_fi_url('cluster'))\n",
    "    # Parse the response JSON into a data frame.\n",
    "    df = parse_fi_table_response(resp, parsers=cluster_parsers, index='Module')\n",
    "    print \"The cluster table is available in Cytoscape.\"\n",
    "    return df"
   ]
  },
  {
   "cell_type": "code",
   "execution_count": 32,
   "metadata": {
    "collapsed": true
   },
   "outputs": [],
   "source": [
    "# Prepares the given cohort for analysis.\n",
    "# Returns the clustered gene modules.\n",
    "def prepare(cohort):\n",
    "    # Clear the current Cytoscape session, if any.\n",
    "    requests.delete(get_url('session')).ok\n",
    "    maf_file = os.path.join(sandbox, \"%s.maf\" % cohort)\n",
    "    # Download the MAF, if necessary.\n",
    "    if (not os.path.exists(maf_file)):\n",
    "        download_maf(cohort, out=maf_file)\n",
    "    # Build the network.\n",
    "    build_network(maf_file)\n",
    "    # Cluster into gene modules.\n",
    "    return cluster()"
   ]
  },
  {
   "cell_type": "code",
   "execution_count": 353,
   "metadata": {
    "collapsed": true
   },
   "outputs": [],
   "source": [
    "# Returns the probability of gene set overlap from\n",
    "# a background population of N genes.\n",
    "def overlap_pvalue(N, gs1, gs2):\n",
    "    # The shared genes.\n",
    "    overlap = set(gs1).intersection(set(gs2))\n",
    "    M = len(overlap)\n",
    "    n1 = len(gs1)\n",
    "    n2 = len(gs2)\n",
    "    # The CDF of complete overlap.\n",
    "    kmax = min(n1, n2)\n",
    "    cdf_max = hypergeom.cdf(kmax, N, n1, n2)\n",
    "    # The CDF of the observed overlap.\n",
    "    kmin = M - 1\n",
    "    cdf_obs = hypergeom.cdf(kmin, N, n1, n2)\n",
    "    #print (\"%d %d %d %d %d %0.5f %0.5f\" % (M, n1, n2, kmax, kmin, cdf_max, cdf_obs))\n",
    "    # Return the overlap probability.\n",
    "    return cdf_max - cdf_obs"
   ]
  },
  {
   "cell_type": "code",
   "execution_count": 264,
   "metadata": {},
   "outputs": [],
   "source": [
    "# Returns module sets with module count no greater than a\n",
    "# maximum size given by the *max_size* option with default\n",
    "# the smallest module gene count.\n",
    "def filter_on_size(*modules, **kwargs):\n",
    "    n = kwargs.get('max_size', min(len(df['Nodes in Module']) for df in modules))\n",
    "    largest = [df.nlargest(n, 'Nodes in Module') for df in modules]\n",
    "    cutoff = max(df.iloc[n - 1]['Nodes in Module'] for df in largest)\n",
    "    criterion = lambda df: df['Nodes in Module'] >= cutoff\n",
    "    return [df.loc[criterion, :] for df in largest]\n",
    "\n",
    "# Slices the given data frame vertically on the 'Node List' column.\n",
    "# Renames the 'Module' index to the given name and the 'Node List'\n",
    "# column to <name> Genes, e.g. 'BRCA Genes' for *name* 'BRCA'.\n",
    "def slice_on_node_list(df, name):\n",
    "    rename_dict = {'Node List': \"%s Genes\" % name}\n",
    "    sliced = df.loc[:, ['Node List']].rename(columns=rename_dict)\n",
    "    sliced.index.names = [name]\n",
    "    return sliced\n",
    "\n",
    "# Returns the cartesian product of two data frames.\n",
    "def cartesian(df1, df2):\n",
    "    rows = itertools.product(df1.iterrows(), df2.iterrows())\n",
    "    values = (left.append(right) for (_, left), (_, right) in rows)\n",
    "    indexes = [df1.index, df2.index]\n",
    "    index_names = [index.name for index in indexes]\n",
    "    index_values = [index.values for index in indexes]\n",
    "    multi_index = pd.MultiIndex.from_product(index_values, names=index_names)\n",
    "    return pd.DataFrame(values, index=multi_index)"
   ]
  },
  {
   "cell_type": "code",
   "execution_count": 374,
   "metadata": {},
   "outputs": [],
   "source": [
    "# The number of background genes N is the Reactome FI\n",
    "# network gene size.\n",
    "N = 12283\n",
    "\n",
    "# Calculates the pair-wise overlap p-value for the given\n",
    "# gene module cross-product.\n",
    "# The return value is the cross-product augmented with\n",
    "# two columns:\n",
    "# * _uncorrected_pvalue_ - the hypergeometric test p value\n",
    "# * _corrected_pvalue_ - the p-values corrected for multiple tests\n",
    "def append_overlap(cross):\n",
    "    # Calculates the overlap p-value.\n",
    "    pvals = cross.agg(lambda row: overlap_pvalue(N, *row.values), axis=1)\n",
    "    # Augment the cross-product with the uncorrrected p-values.\n",
    "    overlap = cross.assign(uncorrected_pvalue=pvals)\n",
    "    # Correct the given p-values for multiple comparison hypothesis\n",
    "    # testing by applying the Benjamini–Hochberg FDR procedure.\n",
    "    _, corrected, _, _ = multipletests(pvals.values, method='fdr_bh')\n",
    "    overlap['corrected_pvalue'] = corrected\n",
    "    return overlap\n",
    "\n",
    "# Partitions the genes into three sets:\n",
    "# * Shared gene sets for modules with significant overlap\n",
    "# * Unshared BRCA modules\n",
    "# * Unshared OV modules\n",
    "# The input data frame is the BRCA x OV module cartesian\n",
    "# cross-product augmented with a pair-wise corrected\n",
    "# overlap p-value.\n",
    "# The corrected p-value *cutoff* determines a shared module.\n",
    "def partition_shared(cross, cutoff=0.01):\n",
    "    # The shared gene modules have corrected p-value < cutoff\n",
    "    criterion = df['corrected_pvalue'].lt(.01)\n",
    "    shared = overlap.loc[lambda df: df['corrected_pvalue'].lt(.01)]    "
   ]
  },
  {
   "cell_type": "code",
   "execution_count": 406,
   "metadata": {},
   "outputs": [],
   "source": [
    "# Performs pair-wise overlap analysis on the given clusters.\n",
    "# Returns the BRCA x OV module cross-product data frame\n",
    "# augmented with *uncorrected_pvalue* and *corrected_pvalue*\n",
    "# columns.\n",
    "def analyse_overlap(brca, ov):\n",
    "    # Select the 20 or so largest modules.\n",
    "    brca_filtered, ov_filtered = filter_on_size(brca, ov, max_size=20)\n",
    "    # Prep pair-wise analysis by taking the cartesian product\n",
    "    # of the two filtered data frames renamed with unique columns.\n",
    "    brca_slice = slice_on_node_list(brca_filtered, 'BRCA')\n",
    "    ov_slice = slice_on_node_list(ov_filtered, 'OV')\n",
    "    cross = cartesian(brca_slice, ov_slice)\n",
    "    overlap = append_overlap(cross)\n",
    "    return overlap"
   ]
  },
  {
   "cell_type": "code",
   "execution_count": 496,
   "metadata": {
    "collapsed": true
   },
   "outputs": [],
   "source": [
    "enrichment_parsers = {\n",
    "    'ReactomePathway': lambda p: p,\n",
    "    'RatioOfProteinInPathway': float,\n",
    "    'NumberOfProteinInPathway': int,\n",
    "    'ProteinFromGeneSet': int,\n",
    "    'P-value': float,\n",
    "    'FDR': float,\n",
    "    'HitGenes': lambda s: s.split(',')\n",
    "}\n",
    "\n",
    "# Perform pathway enrichment analysis on the given gene list or set.\n",
    "# Returns the result data frame.\n",
    "def enrich(genes):\n",
    "    data = ','.join(genes)\n",
    "    # Perform the Reactome enrichment analysis.\n",
    "    resp = requests.post(get_fi_url('ReactomePathwayEnrichment'), json=data)\n",
    "    # Return the data frames.\n",
    "    return parse_fi_table_response(resp, enrichment_parsers, index='ReactomePathway')"
   ]
  },
  {
   "cell_type": "code",
   "execution_count": 236,
   "metadata": {},
   "outputs": [
    {
     "name": "stdout",
     "output_type": "stream",
     "text": [
      "Sample Count: 978\n",
      "Building the FI network with sample cut-off 9...\n",
      "The FI network is loaded to Cytoscape.\n",
      "Clustering the FI network...\n",
      "The cluster table is available in Cytoscape.\n"
     ]
    }
   ],
   "source": [
    "# Prepare the BRCA cohort for analysis.\n",
    "brca_df = prepare('BRCA')"
   ]
  },
  {
   "cell_type": "markdown",
   "metadata": {},
   "source": [
    "*Expected Result*: Cytoscape displays the BRCA FI network\n",
    "and clustered gene modules table."
   ]
  },
  {
   "cell_type": "code",
   "execution_count": 237,
   "metadata": {},
   "outputs": [
    {
     "name": "stdout",
     "output_type": "stream",
     "text": [
      "Sample Count: 466\n",
      "Building the FI network with sample cut-off 4...\n",
      "The FI network is loaded to Cytoscape.\n",
      "Clustering the FI network...\n",
      "The cluster table is available in Cytoscape.\n"
     ]
    }
   ],
   "source": [
    "# Prepare the OV cohort for analysis.\n",
    "ov_df = prepare('OV')"
   ]
  },
  {
   "cell_type": "markdown",
   "metadata": {},
   "source": [
    "*Expected Result*: Cytoscape displays the OV FI network\n",
    "and clustered gene modules table."
   ]
  },
  {
   "cell_type": "code",
   "execution_count": 407,
   "metadata": {},
   "outputs": [
    {
     "name": "stdout",
     "output_type": "stream",
     "text": [
      "Cluster BRCA module count: 23\n",
      "Cluster OV module count: 38\n",
      "Filtered BRCA module count: 18\n",
      "Filtered OV module count: 20\n",
      "Significant overlap pairs count: 24\n",
      "Shared BRCA module count: 16\n",
      "Shared OV module count: 14\n"
     ]
    }
   ],
   "source": [
    "# Discover modules with significant overlap.\n",
    "overlap = analyse_overlap(brca_df, ov_df)\n",
    "# Filter by 1% FPR.\n",
    "criterion = overlap['corrected_pvalue'].lt(.01)\n",
    "shared = overlap.loc[criterion]\n",
    "# Print summary counts.\n",
    "print \"Cluster BRCA module count: %d\" % len(brca_df)\n",
    "print \"Cluster OV module count: %d\" % len(ov_df)\n",
    "print \"Filtered BRCA module count: %d\" % len(overlap.groupby('BRCA'))\n",
    "print \"Filtered OV module count: %d\" % len(overlap.groupby('OV'))\n",
    "print \"Significant overlap pairs count: %d\" % len(shared)\n",
    "print \"Shared BRCA module count: %d\" % len(shared.groupby('BRCA'))\n",
    "print \"Shared OV module count: %d\" % len(shared.groupby('OV'))"
   ]
  },
  {
   "cell_type": "code",
   "execution_count": 408,
   "metadata": {
    "collapsed": true
   },
   "outputs": [],
   "source": [
    "# Load Reactome pathways.\n",
    "resp = requests.get(get_fi_url('pathwayTree'))\n",
    "reactome_tree = resp.json()['data']"
   ]
  },
  {
   "cell_type": "markdown",
   "metadata": {},
   "source": [
    "*Expected Result*: Reactome heirarchy displayed in the Cytoscape Control Panel."
   ]
  },
  {
   "cell_type": "code",
   "execution_count": 525,
   "metadata": {},
   "outputs": [
    {
     "name": "stdout",
     "output_type": "stream",
     "text": [
      "Example significant shared pathways:\n"
     ]
    },
    {
     "data": {
      "text/plain": [
       "ReactomePathway\n",
       "Generic Transcription Pathway                                                                     2.229000e-11\n",
       "Transcriptional regulation of white adipocyte differentiation                                     1.595200e-10\n",
       "Chromatin modifying enzymes                                                                       1.917500e-10\n",
       "Regulation of lipid metabolism by Peroxisome proliferator-activated receptor alpha (PPARalpha)    5.778800e-10\n",
       "PPARA activates gene expression                                                                   3.972800e-09\n",
       "Fatty acid, triacylglycerol, and ketone body metabolism                                           3.972800e-09\n",
       "RORA activates gene expression                                                                    5.772900e-08\n",
       "YAP1- and WWTR1 (TAZ)-stimulated gene expression                                                  8.725300e-08\n",
       "Transcriptional activation of mitochondrial biogenesis                                            1.593400e-06\n",
       "BMAL1:CLOCK,NPAS2 activates circadian gene expression                                             2.377000e-06\n",
       "Mitochondrial biogenesis                                                                          5.575800e-06\n",
       "Activation of gene expression by SREBF (SREBP)                                                    1.332600e-05\n",
       "Epigenetic regulation of gene expression                                                          2.495600e-05\n",
       "HATs acetylate histones                                                                           2.975700e-05\n",
       "HDACs deacetylate histones                                                                        4.225500e-05\n",
       "Regulation of cholesterol biosynthesis by SREBP (SREBF)                                           6.316100e-05\n",
       "Deubiquitination                                                                                  2.074000e-04\n",
       "Activation of anterior HOX genes in hindbrain development during early embryogenesis              2.208700e-04\n",
       "Activation of HOX genes during differentiation                                                    2.208700e-04\n",
       "Pre-NOTCH Transcription and Translation                                                           3.039900e-04\n",
       "Metabolism of lipids and lipoproteins                                                             4.318100e-04\n",
       "Factors involved in megakaryocyte development and platelet production                             6.456800e-04\n",
       "Regulation of TP53 Activity                                                                       6.636900e-04\n",
       "Ub-specific processing proteases                                                                  9.454900e-04\n",
       "Name: FDR, dtype: float64"
      ]
     },
     "execution_count": 525,
     "metadata": {},
     "output_type": "execute_result"
    }
   ],
   "source": [
    "# Perform pathway enrichment on the shared gene modules.\n",
    "genelists = shared.loc[:, 'BRCA Genes':'OV Genes'].values\n",
    "genesets = [set(brca).union(set(ov)) for brca, ov in genelists]\n",
    "enrichments = [enrich(gs) for gs in genesets]\n",
    "filtered = [e.FDR.loc[e.FDR.lt(.001)] for e in enrichments]\n",
    "print \"Example significant shared pathways:\"\n",
    "filtered[0]"
   ]
  },
  {
   "cell_type": "markdown",
   "metadata": {},
   "source": [
    "*Expected Result*: Enrichment results are successively displayed in the Cytoscape Table Panel."
   ]
  },
  {
   "cell_type": "code",
   "execution_count": null,
   "metadata": {
    "collapsed": true
   },
   "outputs": [],
   "source": [
    "# TODO - Export the diagram for one pathway."
   ]
  },
  {
   "cell_type": "code",
   "execution_count": null,
   "metadata": {
    "collapsed": true
   },
   "outputs": [],
   "source": [
    "# TODO - Move doc cells below to appropriate steps above."
   ]
  },
  {
   "cell_type": "markdown",
   "metadata": {},
   "source": [
    "(cf. User Guide\n",
    "[Explore Pathways](http://wiki.reactome.org/index.php?title=ReactomeFIViz&redirect=no#Explore_Reactome_Pathways)\n",
    "step)"
   ]
  },
  {
   "cell_type": "markdown",
   "metadata": {},
   "source": [
    "(cf. User Guide\n",
    "[Enrichment Analysis](http://wiki.reactome.org/index.php?title=ReactomeFIViz&redirect=no#Pathway_Enrichment_Analysis)\n",
    "step)"
   ]
  },
  {
   "cell_type": "markdown",
   "metadata": {},
   "source": [
    "(cf. User Guide\n",
    "[Mutation Analysis](http://wiki.reactome.org/index.php?title=ReactomeFIViz&redirect=no#Gene_Set.2FMutation_Analysis)\n",
    "step)"
   ]
  }
 ],
 "metadata": {
  "kernelspec": {
   "display_name": "Python 2",
   "language": "python",
   "name": "python2"
  },
  "language_info": {
   "codemirror_mode": {
    "name": "ipython",
    "version": 2
   },
   "file_extension": ".py",
   "mimetype": "text/x-python",
   "name": "python",
   "nbconvert_exporter": "python",
   "pygments_lexer": "ipython2",
   "version": "2.7.13"
  }
 },
 "nbformat": 4,
 "nbformat_minor": 1
}
